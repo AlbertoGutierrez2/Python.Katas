{
 "cells": [
  {
   "cell_type": "code",
   "execution_count": 1,
   "metadata": {},
   "outputs": [
    {
     "data": {
      "text/plain": [
       "'Ejercicio 1. Escribe una función que reciba una cadena de texto como parámetro y devuelva un diccionario con las frecuencias\\n    de cada letra en la cadena. Los espacios no deben ser considerados'"
      ]
     },
     "execution_count": 1,
     "metadata": {},
     "output_type": "execute_result"
    }
   ],
   "source": [
    "\"\"\"Ejercicio 1. Escribe una función que reciba una cadena de texto como parámetro y devuelva un diccionario con las frecuencias\n",
    "    de cada letra en la cadena. Los espacios no deben ser considerados\"\"\""
   ]
  },
  {
   "cell_type": "code",
   "execution_count": 3,
   "metadata": {},
   "outputs": [
    {
     "name": "stdout",
     "output_type": "stream",
     "text": [
      "estoesuntextoparacompletarelprimerejercicio\n",
      "{'e': 8, 's': 2, 't': 4, 'o': 4, 'u': 1, 'n': 1, 'x': 1, 'p': 3, 'a': 3, 'r': 5, 'c': 3, 'm': 2, 'l': 2, 'i': 3, 'j': 1}\n",
      "11\n"
     ]
    }
   ],
   "source": [
    "texto = str(input('Frase: ')) #Aqui input de la cadena de texto que se desee\n",
    "texto1 = texto.replace(' ', '')\n",
    "\n",
    "letras_dic = dict() # Guarda repetición de letras\n",
    "contador = 0 # Caracteres que se repiten\n",
    "\n",
    "for letra in texto1: # Por cada letra\n",
    "    if letra in letras_dic: # Si ya estaba en el dic () significa que se repite\n",
    "        if letras_dic [letra] == 1:\n",
    "            contador += 1 # Se agrega al contador\n",
    "        letras_dic[letra] += 1 # Continua el conteo\n",
    "    else:\n",
    "        letras_dic[letra] = 1 # Si la letra no está en el diccionario, la agrega\n",
    "        \n",
    "print(texto1)\n",
    "print(letras_dic)\n",
    "print(contador)\n",
    "\n",
    "  \n",
    "    \n",
    "    \n",
    "    "
   ]
  },
  {
   "cell_type": "code",
   "execution_count": 17,
   "metadata": {},
   "outputs": [
    {
     "data": {
      "text/plain": [
       "'Ejercicio 2. Dada una lista de números, obtén una nueva lista con el doble de cada valor. Usa la función map()'"
      ]
     },
     "execution_count": 17,
     "metadata": {},
     "output_type": "execute_result"
    }
   ],
   "source": [
    "\"\"\"Ejercicio 2. Dada una lista de números, obtén una nueva lista con el doble de cada valor. Usa la función map()\"\"\""
   ]
  },
  {
   "cell_type": "code",
   "execution_count": 18,
   "metadata": {},
   "outputs": [
    {
     "data": {
      "text/plain": [
       "[4, 8, 16, 24, 56, 80, 120]"
      ]
     },
     "execution_count": 18,
     "metadata": {},
     "output_type": "execute_result"
    }
   ],
   "source": [
    "def doblar(numero):\n",
    "    return numero*2\n",
    "\n",
    "numeros = [2, 4, 8, 12, 28, 40, 60]\n",
    "\n",
    "list(map(doblar, numeros))\n"
   ]
  },
  {
   "cell_type": "code",
   "execution_count": 19,
   "metadata": {},
   "outputs": [
    {
     "data": {
      "text/plain": [
       "'3. Escribe una función que tome una lista de palabras y una palabra objetivo como parámetros. La función debe\\ndevolver una lista con todas las palabras de la lista original que contengan la palabra objetivo.'"
      ]
     },
     "execution_count": 19,
     "metadata": {},
     "output_type": "execute_result"
    }
   ],
   "source": [
    "\"\"\"3. Escribe una función que tome una lista de palabras y una palabra objetivo como parámetros. La función debe\n",
    "devolver una lista con todas las palabras de la lista original que contengan la palabra objetivo.\"\"\""
   ]
  },
  {
   "cell_type": "code",
   "execution_count": 26,
   "metadata": {},
   "outputs": [
    {
     "name": "stdout",
     "output_type": "stream",
     "text": [
      "['oso', 'pudoroso']\n"
     ]
    }
   ],
   "source": [
    "Lista = ['perro', 'gato', 'caballo', 'oso', 'pudoroso']\n",
    "palabra_objetivo = 'oso'\n",
    "\n",
    "def objetivo  (palabra):\n",
    "    if (palabra_objetivo in palabra):\n",
    "        return True\n",
    "    else:\n",
    "        return False\n",
    "    \n",
    "Filtro_palabra = filter(objetivo, Lista)\n",
    "\n",
    "print(list(Filtro_palabra))\n",
    "    "
   ]
  },
  {
   "cell_type": "code",
   "execution_count": 27,
   "metadata": {},
   "outputs": [
    {
     "data": {
      "text/plain": [
       "'4. Genera una función que calcule la diferencia entre los valores de dos listas. Usa la función map()'"
      ]
     },
     "execution_count": 27,
     "metadata": {},
     "output_type": "execute_result"
    }
   ],
   "source": [
    "\"\"\"4. Genera una función que calcule la diferencia entre los valores de dos listas. Usa la función map()\"\"\""
   ]
  },
  {
   "cell_type": "code",
   "execution_count": 31,
   "metadata": {},
   "outputs": [
    {
     "data": {
      "text/plain": [
       "[1, 3, 7, 4, 2]"
      ]
     },
     "execution_count": 31,
     "metadata": {},
     "output_type": "execute_result"
    }
   ],
   "source": [
    "a = [7, 10, 14, 8, 26]\n",
    "b = [6, 7, 7, 4, 24]\n",
    "\n",
    "list (map(lambda x,y : x-y, a,b))"
   ]
  },
  {
   "cell_type": "code",
   "execution_count": 32,
   "metadata": {},
   "outputs": [
    {
     "data": {
      "text/plain": [
       "'5. Ecribe una función que tome una lista de números como parámetro y un valor opcional nota_aprobado, que por\\ndefecto es 5. La función debe calcular la media de los números en la lista y determinar si la media es mayor o igual\\nque nota aprobado. Si es así, el estado será \"aprobado\", de lo contrario, será \"suspenso\". La función debe devolver\\nuna tupla que contenga la media y el estado.'"
      ]
     },
     "execution_count": 32,
     "metadata": {},
     "output_type": "execute_result"
    }
   ],
   "source": [
    "\"\"\"5. Ecribe una función que tome una lista de números como parámetro y un valor opcional nota_aprobado, que por\n",
    "defecto es 5. La función debe calcular la media de los números en la lista y determinar si la media es mayor o igual\n",
    "que nota aprobado. Si es así, el estado será \"aprobado\", de lo contrario, será \"suspenso\". La función debe devolver\n",
    "una tupla que contenga la media y el estado.\"\"\""
   ]
  },
  {
   "cell_type": "code",
   "execution_count": 48,
   "metadata": {},
   "outputs": [
    {
     "name": "stdout",
     "output_type": "stream",
     "text": [
      "Aprobado 6.5\n"
     ]
    }
   ],
   "source": [
    "lista = [2,4,6,8,10,9]\n",
    "nota_aprobado = 5\n",
    "\n",
    "suma = 0\n",
    "\n",
    "for num in lista:\n",
    "    suma += num\n",
    "media = suma /len(lista)\n",
    "\n",
    "if media >= nota_aprobado:\n",
    "   print ('Aprobado', media)\n",
    "else:\n",
    "    print ('Suspenso', media)\n",
    "    \n",
    "\n",
    "\n"
   ]
  },
  {
   "cell_type": "code",
   "execution_count": 49,
   "metadata": {},
   "outputs": [
    {
     "data": {
      "text/plain": [
       "'6. Escribe una función que calcule el factorial de un número de manera recursiva.'"
      ]
     },
     "execution_count": 49,
     "metadata": {},
     "output_type": "execute_result"
    }
   ],
   "source": [
    "\"\"\"6. Escribe una función que calcule el factorial de un número de manera recursiva.\"\"\""
   ]
  },
  {
   "cell_type": "code",
   "execution_count": 58,
   "metadata": {},
   "outputs": [
    {
     "data": {
      "text/plain": [
       "720"
      ]
     },
     "execution_count": 58,
     "metadata": {},
     "output_type": "execute_result"
    }
   ],
   "source": [
    "\n",
    "def factorial_recursivo(n):\n",
    "    if n == 1:\n",
    "        return 1\n",
    "    else:\n",
    "        return n * factorial_recursivo(n-1)\n",
    "    \n",
    "factorial_recursivo(6)\n"
   ]
  },
  {
   "cell_type": "code",
   "execution_count": 59,
   "metadata": {},
   "outputs": [
    {
     "data": {
      "text/plain": [
       "'7. Genera una función que convierta una lista de tuplas a una lista de strings. Usa la función map()'"
      ]
     },
     "execution_count": 59,
     "metadata": {},
     "output_type": "execute_result"
    }
   ],
   "source": [
    "\"\"\"7. Genera una función que convierta una lista de tuplas a una lista de strings. Usa la función map()\"\"\""
   ]
  },
  {
   "cell_type": "code",
   "execution_count": 4,
   "metadata": {},
   "outputs": [
    {
     "name": "stdout",
     "output_type": "stream",
     "text": [
      "('rojo', 'azul', 'amarillo')\n",
      "<class 'tuple'>\n",
      "['rojo', 'azul', 'amarillo']\n",
      "<class 'list'>\n"
     ]
    }
   ],
   "source": [
    "tupla = ('rojo', 'azul', 'amarillo')\n",
    "\n",
    "print(tupla)\n",
    "print(type(tupla))\n",
    "\n",
    "def convert(tupla):\n",
    "    return list(tupla)\n",
    "\n",
    "lista = convert(tupla)\n",
    "print (lista)\n",
    "print (type(lista))\n",
    "\n"
   ]
  },
  {
   "cell_type": "code",
   "execution_count": 2,
   "metadata": {},
   "outputs": [
    {
     "data": {
      "text/plain": [
       "'8. Escribe un programa que pida al usuario dos números e intente dividirlos. Si el usuario ingresa un valor no numérico\\no intenta dividir por cero, maneja esas excepciones de manera adecuada. Asegúrate de mostrar un mensaje\\nindicando si la división fue exitosa o no.'"
      ]
     },
     "execution_count": 2,
     "metadata": {},
     "output_type": "execute_result"
    }
   ],
   "source": [
    "\n",
    "\"\"\"8. Escribe un programa que pida al usuario dos números e intente dividirlos. Si el usuario ingresa un valor no numérico\n",
    "o intenta dividir por cero, maneja esas excepciones de manera adecuada. Asegúrate de mostrar un mensaje\n",
    "indicando si la división fue exitosa o no.\"\"\""
   ]
  },
  {
   "cell_type": "code",
   "execution_count": 23,
   "metadata": {},
   "outputs": [
    {
     "name": "stdout",
     "output_type": "stream",
     "text": [
      "Por favor, introduzca un número positivo\n",
      "Debe ingresar un valor numérico\n",
      "Por favor, introduzca un número positivo\n",
      "Por favor, introduzca un número positivo\n",
      "Por favor, introduzca un número positivo\n",
      "División correcta!, el resultado es 2.0\n"
     ]
    }
   ],
   "source": [
    "while True:\n",
    "      try:\n",
    "         x = int(input(\"Introduzca el primer número positivo;  \"))\n",
    "         if x < 0:\n",
    "            print(\"Por favor, introduzca un número positivo\")\n",
    "            continue\n",
    "         y = int(input(\"Introduzca el segundo número positivo;  \"))\n",
    "         if y < 0:\n",
    "            print(\"Por favor, introduzca un número positivo\")  \n",
    "            continue\n",
    "         division = x/y\n",
    "         print(\"División correcta!, el resultado es\", division)\n",
    "         break\n",
    "      except ValueError:\n",
    "        print(\"Debe ingresar un valor numérico\")\n",
    "      except ZeroDivisionError:\n",
    "        print(\"El divisor no puede ser cero, por favor introduzca el segundo número mayor que cero\") \n",
    "      \n",
    "        \n",
    "   \n",
    "        \n",
    "   "
   ]
  },
  {
   "cell_type": "code",
   "execution_count": 1,
   "metadata": {},
   "outputs": [
    {
     "data": {
      "text/plain": [
       "'9. Escribe una función que tome una lista de nombres de mascotas como parámetro y devuelva una nueva lista\\nexcluyendo ciertas mascotas prohibidas en España. La lista de mascotas a excluir es [\"Mapache\", \"Tigre\",\\n\"Serpiente Pitón\", \"Cocodrilo\", \"Oso\"].Usa la función filter()'"
      ]
     },
     "execution_count": 1,
     "metadata": {},
     "output_type": "execute_result"
    }
   ],
   "source": [
    "\"\"\"9. Escribe una función que tome una lista de nombres de mascotas como parámetro y devuelva una nueva lista\n",
    "excluyendo ciertas mascotas prohibidas en España. La lista de mascotas a excluir es [\"Mapache\", \"Tigre\",\n",
    "\"Serpiente Pitón\", \"Cocodrilo\", \"Oso\"].Usa la función filter()\"\"\""
   ]
  },
  {
   "cell_type": "code",
   "execution_count": 2,
   "metadata": {},
   "outputs": [
    {
     "name": "stdout",
     "output_type": "stream",
     "text": [
      "perro\n",
      "gato\n",
      "léon\n",
      "Hipopótamo\n",
      "Vaca\n",
      "Cabra\n"
     ]
    }
   ],
   "source": [
    "Animales = [\"perro\", \"gato\", \"léon\", \"Hipopótamo\", \"Mapache\", \"Tigre\",\n",
    "\"Serpiente Pitón\", \"Vaca\", \"Cocodrilo\", \"Oso\", \"Cabra\"]\n",
    "\n",
    "def Exclusion_animal(x):\n",
    "    if x in [\"Mapache\", \"Tigre\", \"Serpiente Pitón\", \"Cocodrilo\", \"Oso\"]:\n",
    "        return False\n",
    "    else:\n",
    "        return True\n",
    "    \n",
    "Animales_1 = filter(Exclusion_animal, Animales)\n",
    "\n",
    "for x in Animales_1:\n",
    "    print(x)"
   ]
  },
  {
   "cell_type": "code",
   "execution_count": null,
   "metadata": {},
   "outputs": [
    {
     "data": {
      "text/plain": [
       "'10. Escribe una función que reciba una lista de números y calcule su promedio. Si la lista está vacía, lanza una\\nexcepción personalizada y maneja el error adecuadamente.'"
      ]
     },
     "execution_count": 3,
     "metadata": {},
     "output_type": "execute_result"
    }
   ],
   "source": [
    "\"\"\"10. Escribe una función que reciba una lista de números y calcule su promedio. Si la lista está vacía, lanza una\n",
    "excepción personalizada y maneja el error adecuadamente.\"\"\""
   ]
  },
  {
   "cell_type": "code",
   "execution_count": 5,
   "metadata": {},
   "outputs": [
    {
     "ename": "EmptyListError",
     "evalue": "La lista se encuentra vacía",
     "output_type": "error",
     "traceback": [
      "\u001b[1;31m---------------------------------------------------------------------------\u001b[0m",
      "\u001b[1;31mEmptyListError\u001b[0m                            Traceback (most recent call last)",
      "Cell \u001b[1;32mIn[5], line 18\u001b[0m\n\u001b[0;32m     17\u001b[0m \u001b[38;5;28;01mtry\u001b[39;00m:\n\u001b[1;32m---> 18\u001b[0m     Resultado \u001b[38;5;241m=\u001b[39m \u001b[43maverage\u001b[49m\u001b[43m(\u001b[49m\u001b[43mnumbers\u001b[49m\u001b[43m)\u001b[49m\n\u001b[0;32m     19\u001b[0m     \u001b[38;5;28mprint\u001b[39m(\u001b[38;5;124m\"\u001b[39m\u001b[38;5;124mEl promedio es; \u001b[39m\u001b[38;5;124m\"\u001b[39m, \u001b[38;5;28mround\u001b[39m(Resultado,\u001b[38;5;241m2\u001b[39m))\n",
      "Cell \u001b[1;32mIn[5], line 14\u001b[0m, in \u001b[0;36maverage\u001b[1;34m(numbers)\u001b[0m\n\u001b[0;32m     13\u001b[0m \u001b[38;5;28;01mif\u001b[39;00m \u001b[38;5;129;01mnot\u001b[39;00m numbers:\n\u001b[1;32m---> 14\u001b[0m     \u001b[38;5;28;01mraise\u001b[39;00m EmptyListError()\n\u001b[0;32m     15\u001b[0m \u001b[38;5;28;01mreturn\u001b[39;00m \u001b[38;5;28msum\u001b[39m(numbers)\u001b[38;5;241m/\u001b[39m\u001b[38;5;28mlen\u001b[39m(numbers)\n",
      "\u001b[1;31mEmptyListError\u001b[0m: ",
      "\nDuring handling of the above exception, another exception occurred:\n",
      "\u001b[1;31mEmptyListError\u001b[0m                            Traceback (most recent call last)",
      "Cell \u001b[1;32mIn[5], line 22\u001b[0m\n\u001b[0;32m     19\u001b[0m     \u001b[38;5;28mprint\u001b[39m(\u001b[38;5;124m\"\u001b[39m\u001b[38;5;124mEl promedio es; \u001b[39m\u001b[38;5;124m\"\u001b[39m, \u001b[38;5;28mround\u001b[39m(Resultado,\u001b[38;5;241m2\u001b[39m))\n\u001b[0;32m     21\u001b[0m \u001b[38;5;28;01mexcept\u001b[39;00m EmptyListError:\n\u001b[1;32m---> 22\u001b[0m     \u001b[38;5;28;01mraise\u001b[39;00m EmptyListError(\u001b[38;5;124m'\u001b[39m\u001b[38;5;124mLa lista se encuentra vacía\u001b[39m\u001b[38;5;124m'\u001b[39m)\n",
      "\u001b[1;31mEmptyListError\u001b[0m: La lista se encuentra vacía"
     ]
    }
   ],
   "source": [
    "numbers = []\n",
    "while True:\n",
    "    valor = float(input(\"Introduzca su lista de números distintos de cero y pulse 0 cuando termine; \"))\n",
    "    if valor == 0:\n",
    "        break\n",
    "    else:\n",
    "        numbers.append(valor)\n",
    "        \n",
    "class EmptyListError(Exception):\n",
    "    pass\n",
    "\n",
    "def average(numbers):\n",
    "    if not numbers:\n",
    "        raise EmptyListError()\n",
    "    return sum(numbers)/len(numbers)\n",
    "\n",
    "try:\n",
    "    Resultado = average(numbers)\n",
    "    print(\"El promedio es; \", round(Resultado,2))\n",
    "    \n",
    "except EmptyListError:\n",
    "    raise EmptyListError('La lista se encuentra vacía')\n",
    "    \n",
    "    "
   ]
  },
  {
   "cell_type": "code",
   "execution_count": null,
   "metadata": {},
   "outputs": [],
   "source": [
    "\"\"\"11. Escribe un programa que pida al usuario que introduzca su edad. Si el usuario ingresa un valor no numérico o un\n",
    "valor fuera del rango esperado (por ejemplo, menor que 0 o mayor que 120), maneja las excepciones\n",
    "adecuadamente.\"\"\""
   ]
  },
  {
   "cell_type": "code",
   "execution_count": 2,
   "metadata": {},
   "outputs": [
    {
     "name": "stdout",
     "output_type": "stream",
     "text": [
      "Por favor introduzca un valor numérico\n"
     ]
    }
   ],
   "source": [
    "\n",
    "try:\n",
    "        x = int(input(\"Introduzca su edad:\"))\n",
    "        if x < 0 or x > 120:\n",
    "                print(\"Por favor introduzca un valor entre 0 y 120\")\n",
    "        else:\n",
    "                try:\n",
    "                        print(f'Su edad es de: {x} años')\n",
    "                except ValueError:\n",
    "                        print(\"Ha introducito un valor no numérico\")\n",
    "    \n",
    "                \n",
    "except ValueError:\n",
    "                print(\"Por favor introduzca un valor numérico\")\n"
   ]
  },
  {
   "cell_type": "code",
   "execution_count": 11,
   "metadata": {},
   "outputs": [
    {
     "data": {
      "text/plain": [
       "'12. Genera una función que al recibir una frase devuelva una lista con la longitud de cada palabra. Usa la función map()'"
      ]
     },
     "execution_count": 11,
     "metadata": {},
     "output_type": "execute_result"
    }
   ],
   "source": [
    "\"\"\"12. Genera una función que al recibir una frase devuelva una lista con la longitud de cada palabra. Usa la función map()\"\"\""
   ]
  },
  {
   "cell_type": "code",
   "execution_count": 35,
   "metadata": {},
   "outputs": [
    {
     "name": "stdout",
     "output_type": "stream",
     "text": [
      "['Esta', 'función', 'funciona', 'correctamente']\n",
      "[4, 7, 8, 13]\n"
     ]
    }
   ],
   "source": [
    "Frase = input(\"Introduzca aquí su frase: \")\n",
    "palabras = Frase.split()\n",
    "Lista_palabras = list(palabras)\n",
    "print (Lista_palabras)\n",
    "\n",
    "Longitudes = list(map(len, Lista_palabras))\n",
    "print (Longitudes)\n",
    "\n"
   ]
  },
  {
   "cell_type": "code",
   "execution_count": 36,
   "metadata": {},
   "outputs": [
    {
     "data": {
      "text/plain": [
       "'13. Genera una función la cual, para un conjunto de caracteres, devuelva una lista de tuplas con cada letra en\\nmayúsculas y minúsculas. Las letras no pueden estar repetidas .Usa la función map()'"
      ]
     },
     "execution_count": 36,
     "metadata": {},
     "output_type": "execute_result"
    }
   ],
   "source": [
    "\"\"\"13. Genera una función la cual, para un conjunto de caracteres, devuelva una lista de tuplas con cada letra en\n",
    "mayúsculas y minúsculas. Las letras no pueden estar repetidas .Usa la función map()\"\"\""
   ]
  },
  {
   "cell_type": "code",
   "execution_count": 107,
   "metadata": {},
   "outputs": [
    {
     "name": "stdout",
     "output_type": "stream",
     "text": [
      "('a', 'b', 'c', 'd', 'e', 'f', 'g')\n",
      "['A', 'B', 'C', 'D', 'E', 'F', 'G']\n",
      "[('a', 'A'), ('b', 'B'), ('c', 'C'), ('d', 'D'), ('e', 'E'), ('f', 'F'), ('g', 'G')]\n"
     ]
    }
   ],
   "source": [
    "Conjunto_caracteres = (\"a\", \"b\", \"c\", \"d\", \"e\", \"f\", \"g\")\n",
    "print(Conjunto_caracteres)\n",
    "\n",
    "Mayus = list(map(str.upper, Conjunto_caracteres))\n",
    "print(Mayus)\n",
    "\n",
    "\n",
    "def Lista_tuplas(Conjunto_caracteres, Mayus):\n",
    "    return list(map(lambda x,y: (x,y), Conjunto_caracteres, Mayus))\n",
    "\n",
    "print(Lista_tuplas(Conjunto_caracteres, Mayus))\n",
    "\n",
    "\n",
    "\n"
   ]
  },
  {
   "cell_type": "code",
   "execution_count": 105,
   "metadata": {},
   "outputs": [
    {
     "data": {
      "text/plain": [
       "'14. Crea una función que retorne las palabras de una lista de palabras que comience con una letra en especifico. Usa la\\nfunción filter()'"
      ]
     },
     "execution_count": 105,
     "metadata": {},
     "output_type": "execute_result"
    }
   ],
   "source": [
    "\"\"\"14. Crea una función que retorne las palabras de una lista de palabras que comience con una letra en especifico. Usa la\n",
    "función filter()\"\"\""
   ]
  },
  {
   "cell_type": "code",
   "execution_count": 116,
   "metadata": {},
   "outputs": [
    {
     "name": "stdout",
     "output_type": "stream",
     "text": [
      "['camión', 'casa']\n"
     ]
    }
   ],
   "source": [
    "Lista_palabras = (\"perro\", \"gato\", \"camión\", \"casa\", \"murciélago\")\n",
    "\n",
    "letra = \"c\"\n",
    "\n",
    "Lista_palabras_filtradas = list(filter(lambda x: x[0] == letra, Lista_palabras))\n",
    "print(Lista_palabras_filtradas)\n"
   ]
  },
  {
   "cell_type": "code",
   "execution_count": 117,
   "metadata": {},
   "outputs": [
    {
     "data": {
      "text/plain": [
       "'15. Crea una función lambda que sume 3 a cada número de una lista dada.'"
      ]
     },
     "execution_count": 117,
     "metadata": {},
     "output_type": "execute_result"
    }
   ],
   "source": [
    "\"\"\"15. Crea una función lambda que sume 3 a cada número de una lista dada.\"\"\""
   ]
  },
  {
   "cell_type": "code",
   "execution_count": 119,
   "metadata": {},
   "outputs": [
    {
     "name": "stdout",
     "output_type": "stream",
     "text": [
      "[7, 11, 28, 13]\n"
     ]
    }
   ],
   "source": [
    "Lista_de_numeros = (4, 8 ,25 , 10)\n",
    "\n",
    "Resultado = list(map(lambda x: x+3, Lista_de_numeros))\n",
    "print(Resultado)"
   ]
  },
  {
   "cell_type": "code",
   "execution_count": 120,
   "metadata": {},
   "outputs": [
    {
     "data": {
      "text/plain": [
       "'16. Escribe una función que tome una cadena de texto y un número entero n como parámetros y devuelva una lista de\\ntodas las palabras que sean más largas que n. Usa la función filter()'"
      ]
     },
     "execution_count": 120,
     "metadata": {},
     "output_type": "execute_result"
    }
   ],
   "source": [
    "\"\"\"16. Escribe una función que tome una cadena de texto y un número entero n como parámetros y devuelva una lista de\n",
    "todas las palabras que sean más largas que n. Usa la función filter()\"\"\""
   ]
  },
  {
   "cell_type": "code",
   "execution_count": 126,
   "metadata": {},
   "outputs": [
    {
     "name": "stdout",
     "output_type": "stream",
     "text": [
      "['resolver', 'ejercicio', 'dieciseis']\n"
     ]
    }
   ],
   "source": [
    "Texto = \"Esto es un texto para resolver el ejercicio dieciseis\"\n",
    "Lista = str.split(Texto)\n",
    "n = 5\n",
    "\n",
    "Lista_palabras = list(filter(lambda x: len(x) > n, Lista))\n",
    "print(Lista_palabras)\n",
    "\n"
   ]
  },
  {
   "cell_type": "code",
   "execution_count": 127,
   "metadata": {},
   "outputs": [
    {
     "data": {
      "text/plain": [
       "'17. Crea una función que tome una lista de dígitos y devuelva el número correspondiente. Por ejemplo, [5,7,2]\\ncorresponde al número quinientos setenta y dos (572). Usa la función reduce()'"
      ]
     },
     "execution_count": 127,
     "metadata": {},
     "output_type": "execute_result"
    }
   ],
   "source": [
    "\"\"\"17. Crea una función que tome una lista de dígitos y devuelva el número correspondiente. Por ejemplo, [5,7,2]\n",
    "corresponde al número quinientos setenta y dos (572). Usa la función reduce()\"\"\""
   ]
  },
  {
   "cell_type": "code",
   "execution_count": 50,
   "metadata": {},
   "outputs": [
    {
     "data": {
      "text/plain": [
       "573"
      ]
     },
     "execution_count": 50,
     "metadata": {},
     "output_type": "execute_result"
    }
   ],
   "source": [
    "from functools import reduce\n",
    "\n",
    "def digitos_a_numero(digitos):\n",
    "    return reduce(lambda x,y: x*10 + y, digitos)\n",
    "\n",
    "digitos_a_numero([5, 7, 3])"
   ]
  },
  {
   "cell_type": "code",
   "execution_count": 9,
   "metadata": {},
   "outputs": [
    {
     "data": {
      "text/plain": [
       "'18. Escribe un programa en Python que cree una lista de diccionarios que contenga información de estudiantes\\n(nombre, edad, calificación) y use la función filter para extraer a los estudiantes con una calificación mayor o igual a\\n90. Usa la función filter()'"
      ]
     },
     "execution_count": 9,
     "metadata": {},
     "output_type": "execute_result"
    }
   ],
   "source": [
    "\"\"\"18. Escribe un programa en Python que cree una lista de diccionarios que contenga información de estudiantes\n",
    "(nombre, edad, calificación) y use la función filter para extraer a los estudiantes con una calificación mayor o igual a\n",
    "90. Usa la función filter()\"\"\""
   ]
  },
  {
   "cell_type": "code",
   "execution_count": 41,
   "metadata": {},
   "outputs": [
    {
     "name": "stdout",
     "output_type": "stream",
     "text": [
      "Pepe tiene 25 y tuvo una calificación de 91.\n",
      "Ana tiene 28 y tuvo una calificación de 90.\n"
     ]
    },
    {
     "data": {
      "text/plain": [
       "[None, None]"
      ]
     },
     "execution_count": 41,
     "metadata": {},
     "output_type": "execute_result"
    }
   ],
   "source": [
    "  class Estudiante:\n",
    "      def __init__(self, nombre, edad, calificacion):\n",
    "          self.nombre = nombre\n",
    "          self.edad = edad\n",
    "          self.calificacion = calificacion\n",
    "          \n",
    "      def __str__(self):\n",
    "           return f\"{self.nombre} tiene {self.edad} y tuvo una calificación de {self.calificacion}.\"\n",
    "          \n",
    "  lista_estudiantes = [\n",
    "      Estudiante(\"Pepe\", 25, 91),\n",
    "      Estudiante(\"Juan\", 40, 57),\n",
    "      Estudiante(\"Ana\", 28, 90),\n",
    "      Estudiante(\"Antonio\", 42, 80)\n",
    "  ]\n",
    " \n",
    "  estudiantes_superiores = filter(lambda e: e.calificacion >= 90, lista_estudiantes)\n",
    "  [print (e.__str__()) for e in estudiantes_superiores]\n",
    "  "
   ]
  },
  {
   "cell_type": "code",
   "execution_count": 42,
   "metadata": {},
   "outputs": [
    {
     "data": {
      "text/plain": [
       "'19. Crea una función lambda que filtre los números impares de una lista dada'"
      ]
     },
     "execution_count": 42,
     "metadata": {},
     "output_type": "execute_result"
    }
   ],
   "source": [
    "\"\"\"19. Crea una función lambda que filtre los números impares de una lista dada\"\"\""
   ]
  },
  {
   "cell_type": "code",
   "execution_count": 45,
   "metadata": {},
   "outputs": [
    {
     "name": "stdout",
     "output_type": "stream",
     "text": [
      "[1, 2, 3, 4, 5, 6, 7, 8, 9, 10]\n",
      "[1, 3, 5, 7, 9]\n"
     ]
    }
   ],
   "source": [
    "numeros = list(range(1 , 11))\n",
    "print (numeros)\n",
    "\n",
    "impares = list(filter(lambda n: n % 2 != 0, numeros))\n",
    "print (impares)"
   ]
  },
  {
   "cell_type": "code",
   "execution_count": 47,
   "metadata": {},
   "outputs": [
    {
     "data": {
      "text/plain": [
       "'20. Para una lista con elementos tipo integer y string obtén una nueva lista sólo con los valores int. Usa la función\\nfilter()'"
      ]
     },
     "execution_count": 47,
     "metadata": {},
     "output_type": "execute_result"
    }
   ],
   "source": [
    "\"\"\"20. Para una lista con elementos tipo integer y string obtén una nueva lista sólo con los valores int. Usa la función\n",
    "filter()\"\"\""
   ]
  },
  {
   "cell_type": "code",
   "execution_count": 49,
   "metadata": {},
   "outputs": [
    {
     "name": "stdout",
     "output_type": "stream",
     "text": [
      "[24, 48, 35]\n"
     ]
    }
   ],
   "source": [
    "Lista = [\"Pepe\", 24,  \"Elefante\", 48, \"Ratón\", 35]\n",
    "\n",
    "Resultado = list(filter(lambda x: isinstance(x, int), Lista))\n",
    "print(Resultado)\n"
   ]
  },
  {
   "cell_type": "code",
   "execution_count": 46,
   "metadata": {},
   "outputs": [
    {
     "data": {
      "text/plain": [
       "'21. Crea una función que calcule el cubo de un número dado mediante una función lambda'"
      ]
     },
     "execution_count": 46,
     "metadata": {},
     "output_type": "execute_result"
    }
   ],
   "source": [
    "\"\"\"21. Crea una función que calcule el cubo de un número dado mediante una función lambda\"\"\""
   ]
  },
  {
   "cell_type": "code",
   "execution_count": 52,
   "metadata": {},
   "outputs": [
    {
     "name": "stdout",
     "output_type": "stream",
     "text": [
      "27\n"
     ]
    }
   ],
   "source": [
    "numero = 3\n",
    "\n",
    "cubo = lambda x: x ** 3\n",
    "print(cubo(3))"
   ]
  },
  {
   "cell_type": "code",
   "execution_count": 53,
   "metadata": {},
   "outputs": [
    {
     "data": {
      "text/plain": [
       "'22. Dada una lista numérica, obtén el producto total de los valores de dicha lista.Usa la función reduce() .'"
      ]
     },
     "execution_count": 53,
     "metadata": {},
     "output_type": "execute_result"
    }
   ],
   "source": [
    "\"\"\"22. Dada una lista numérica, obtén el producto total de los valores de dicha lista.Usa la función reduce() .\"\"\""
   ]
  },
  {
   "cell_type": "code",
   "execution_count": 56,
   "metadata": {},
   "outputs": [
    {
     "name": "stdout",
     "output_type": "stream",
     "text": [
      "[1, 2, 3, 4, 5]\n",
      "120\n"
     ]
    }
   ],
   "source": [
    "from functools import reduce\n",
    "\n",
    "numeros = list(range(1, 6))\n",
    "print(numeros)\n",
    "\n",
    "producto = reduce(lambda x,y: x*y, numeros)\n",
    "print (producto)"
   ]
  },
  {
   "cell_type": "code",
   "execution_count": 57,
   "metadata": {},
   "outputs": [
    {
     "data": {
      "text/plain": [
       "'23. Concatena una lista de palabras.Usa la función reduce() .'"
      ]
     },
     "execution_count": 57,
     "metadata": {},
     "output_type": "execute_result"
    }
   ],
   "source": [
    "\"\"\"23. Concatena una lista de palabras.Usa la función reduce() .\"\"\""
   ]
  },
  {
   "cell_type": "code",
   "execution_count": 63,
   "metadata": {},
   "outputs": [
    {
     "name": "stdout",
     "output_type": "stream",
     "text": [
      "Hola_Pepe\n"
     ]
    }
   ],
   "source": [
    "lista = ('H','o','l','a','_','P','e','p','e')\n",
    "\n",
    "def concatenar(a,b):\n",
    "    return a+b\n",
    "\n",
    "Resultado = reduce(concatenar, lista)\n",
    "\n",
    "print(Resultado)\n",
    "\n"
   ]
  },
  {
   "cell_type": "code",
   "execution_count": 64,
   "metadata": {},
   "outputs": [
    {
     "data": {
      "text/plain": [
       "'24. Calcula la diferencia total en los valores de una lista. Usa la función reduce() .'"
      ]
     },
     "execution_count": 64,
     "metadata": {},
     "output_type": "execute_result"
    }
   ],
   "source": [
    "\"\"\"24. Calcula la diferencia total en los valores de una lista. Usa la función reduce() .\"\"\""
   ]
  },
  {
   "cell_type": "code",
   "execution_count": 68,
   "metadata": {},
   "outputs": [
    {
     "name": "stdout",
     "output_type": "stream",
     "text": [
      "[10, 2, 3, 1]\n",
      "4\n"
     ]
    }
   ],
   "source": [
    "\n",
    "numeros = [10, 2, 3, 1]\n",
    "print(numeros)\n",
    "\n",
    "producto = reduce(lambda x,y: x-y, numeros)\n",
    "print (producto)"
   ]
  },
  {
   "cell_type": "code",
   "execution_count": 69,
   "metadata": {},
   "outputs": [
    {
     "data": {
      "text/plain": [
       "'25. Crea una función que cuente el número de caracteres en una cadena de texto dada.'"
      ]
     },
     "execution_count": 69,
     "metadata": {},
     "output_type": "execute_result"
    }
   ],
   "source": [
    "\"\"\"25. Crea una función que cuente el número de caracteres en una cadena de texto dada.\"\"\""
   ]
  },
  {
   "cell_type": "code",
   "execution_count": 70,
   "metadata": {},
   "outputs": [
    {
     "name": "stdout",
     "output_type": "stream",
     "text": [
      "Este texto tiene 49 caracteres\n"
     ]
    }
   ],
   "source": [
    "Texto = \"Hola, este es un texto para resolver el ejercicio\"\n",
    "longitud = len(Texto)\n",
    "print(f\"Este texto tiene {longitud} caracteres\")"
   ]
  },
  {
   "cell_type": "code",
   "execution_count": 71,
   "metadata": {},
   "outputs": [
    {
     "data": {
      "text/plain": [
       "'26. Crea una función lambda que calcule el resto de la división entre dos números dados.'"
      ]
     },
     "execution_count": 71,
     "metadata": {},
     "output_type": "execute_result"
    }
   ],
   "source": [
    "\"\"\"26. Crea una función lambda que calcule el resto de la división entre dos números dados.\"\"\""
   ]
  },
  {
   "cell_type": "code",
   "execution_count": 89,
   "metadata": {},
   "outputs": [
    {
     "name": "stdout",
     "output_type": "stream",
     "text": [
      "1\n"
     ]
    }
   ],
   "source": [
    "x = 5\n",
    "y = 4\n",
    "\n",
    "Resto = lambda x, y: x % y\n",
    "print(Resto(x, y))"
   ]
  },
  {
   "cell_type": "code",
   "execution_count": 90,
   "metadata": {},
   "outputs": [
    {
     "data": {
      "text/plain": [
       "'27. Crea una función que calcule el promedio de una lista de números.'"
      ]
     },
     "execution_count": 90,
     "metadata": {},
     "output_type": "execute_result"
    }
   ],
   "source": [
    "\"\"\"27. Crea una función que calcule el promedio de una lista de números.\"\"\""
   ]
  },
  {
   "cell_type": "code",
   "execution_count": 108,
   "metadata": {},
   "outputs": [
    {
     "name": "stdout",
     "output_type": "stream",
     "text": [
      "El promedio de la lista de números dada es 10.2\n"
     ]
    }
   ],
   "source": [
    "lista = (1, 5, 8, 25, 12)\n",
    "\n",
    "def calculate_average(a):\n",
    "        x = sum(a)\n",
    "        y = len(a)\n",
    "        average = x / y\n",
    "        return average\n",
    "    \n",
    "Resultado = calculate_average(lista)\n",
    "print(f\"El promedio de la lista de números dada es {Resultado}\")\n",
    "\n",
    "\n"
   ]
  },
  {
   "cell_type": "code",
   "execution_count": 109,
   "metadata": {},
   "outputs": [
    {
     "data": {
      "text/plain": [
       "'28. Crea una función que busque y devuelva el primer elemento duplicado en una lista dada.'"
      ]
     },
     "execution_count": 109,
     "metadata": {},
     "output_type": "execute_result"
    }
   ],
   "source": [
    "\"\"\"28. Crea una función que busque y devuelva el primer elemento duplicado en una lista dada.\"\"\"\n"
   ]
  },
  {
   "cell_type": "code",
   "execution_count": 57,
   "metadata": {},
   "outputs": [
    {
     "name": "stdout",
     "output_type": "stream",
     "text": [
      "El primer elemento duplicado de la lista es: 3\n"
     ]
    }
   ],
   "source": [
    "lista = []\n",
    "repetidos = None\n",
    "my_list= [1, 2, 3, 3, 4, 4, 5, 6, 7, 7, 8]\n",
    "\n",
    "for i in my_list:\n",
    "    if i in lista and not repetidos:\n",
    "        repetidos = i\n",
    "    lista.append(i)\n",
    "if repetidos:\n",
    "    print(f'El primer elemento duplicado de la lista es: {repetidos}')\n",
    "else:\n",
    "    print(\"No existen elementos duplicados en la lista\")\n",
    "    \n",
    "\n",
    "    "
   ]
  },
  {
   "cell_type": "code",
   "execution_count": 128,
   "metadata": {},
   "outputs": [
    {
     "data": {
      "text/plain": [
       "\"29. Crea una función que convierta una variable en una cadena de texto y enmascare todos los caracteres con el\\ncarácter '#', excepto los últimos cuatro.\""
      ]
     },
     "execution_count": 128,
     "metadata": {},
     "output_type": "execute_result"
    }
   ],
   "source": [
    "\"\"\"29. Crea una función que convierta una variable en una cadena de texto y enmascare todos los caracteres con el\n",
    "carácter '#', excepto los últimos cuatro.\"\"\""
   ]
  },
  {
   "cell_type": "code",
   "execution_count": 15,
   "metadata": {},
   "outputs": [
    {
     "name": "stdout",
     "output_type": "stream",
     "text": [
      "123456789\n",
      "#####6789\n"
     ]
    }
   ],
   "source": [
    "number = 123456789\n",
    "cadena = str(number)\n",
    "print(cadena)\n",
    "masked = len(cadena[:-4])*\"#\"+cadena[-4:]\n",
    "print(masked)\n",
    "\n"
   ]
  },
  {
   "cell_type": "code",
   "execution_count": 16,
   "metadata": {},
   "outputs": [
    {
     "data": {
      "text/plain": [
       "'30. Crea una función que determine si dos palabras son anagramas, es decir, si están formadas por las mismas letras\\npero en diferente orden.'"
      ]
     },
     "execution_count": 16,
     "metadata": {},
     "output_type": "execute_result"
    }
   ],
   "source": [
    "\"\"\"30. Crea una función que determine si dos palabras son anagramas, es decir, si están formadas por las mismas letras\n",
    "pero en diferente orden.\"\"\""
   ]
  },
  {
   "cell_type": "code",
   "execution_count": 17,
   "metadata": {},
   "outputs": [
    {
     "name": "stdout",
     "output_type": "stream",
     "text": [
      "casa Is Not an ANAGRAM\n",
      "roma Is Not an ANAGRAM\n",
      "casa = saca Is an ANAGRAM\n",
      "perla Is Not an ANAGRAM\n",
      "roma = mora Is an ANAGRAM\n",
      "regla Is Not an ANAGRAM\n",
      "['casa', 'roma', 'perla', 'regla']\n"
     ]
    }
   ],
   "source": [
    "in_list = ['casa', 'roma', 'saca', 'perla', 'mora', 'regla']\n",
    "anagramas = {}\n",
    "\n",
    "for palabra in in_list:\n",
    "    code = ' '. join(sorted(palabra))\n",
    "    if code in anagramas:\n",
    "        print(f'{anagramas[code]} = {palabra} Is an ANAGRAM')\n",
    "    else:\n",
    "        anagramas[code] = palabra\n",
    "        print(f'{palabra} Is Not an ANAGRAM')\n",
    "        \n",
    "list_anagram = list(anagramas.values())\n",
    "print(list_anagram)"
   ]
  },
  {
   "cell_type": "code",
   "execution_count": 1,
   "metadata": {},
   "outputs": [
    {
     "data": {
      "text/plain": [
       "'31. Crea una función que solicite al usuario ingresar una lista de nombres y luego solicite un nombre para buscar en\\nesa lista. Si el nombre está en la lista, se imprime un mensaje indicando que fue encontrado, de lo contrario, se\\nlanza una excepción.'"
      ]
     },
     "execution_count": 1,
     "metadata": {},
     "output_type": "execute_result"
    }
   ],
   "source": [
    "\"\"\"31. Crea una función que solicite al usuario ingresar una lista de nombres y luego solicite un nombre para buscar en\n",
    "esa lista. Si el nombre está en la lista, se imprime un mensaje indicando que fue encontrado, de lo contrario, se\n",
    "lanza una excepción.\"\"\""
   ]
  },
  {
   "cell_type": "code",
   "execution_count": 57,
   "metadata": {},
   "outputs": [
    {
     "name": "stdout",
     "output_type": "stream",
     "text": [
      "Los nombres de la lista de invitados son: ['Antonio', 'Miguel', 'Sebastian', 'Rodrigo', 'Cristopher']\n",
      "Cristopher\n",
      "Cristopher se encuentra en la lista\n"
     ]
    }
   ],
   "source": [
    "    lista = []\n",
    "    valor = str(input('Ingrese el nombre para la lista o pulse \"x\" para terminar'))\n",
    "    while valor != \"x\":\n",
    "        lista.append(valor)   \n",
    "        valor = str(input('Ingrese el nombre para la lista o pulse \"x\" para terminar'))\n",
    "    print(f'Los nombres de la lista de invitados son: {lista}')\n",
    "    \n",
    "    Nombre = input('Por favor, ingrese un nombre para buscar en la lista: ') \n",
    "    print(Nombre)\n",
    "    \n",
    "   \n",
    "    if Nombre in lista:\n",
    "            print(f'{Nombre} se encuentra en la lista')\n",
    "    else:\n",
    "            print(f'Lo sentimos, {Nombre} no está en la lista')\n",
    "        \n",
    "    "
   ]
  },
  {
   "cell_type": "code",
   "execution_count": 58,
   "metadata": {},
   "outputs": [
    {
     "data": {
      "text/plain": [
       "'32. Crea una función que tome un nombre completo y una lista de empleados, busque el nombre completo en la lista y\\ndevuelve el puesto del empleado si está en la lista, de lo contrario, devuelve un mensaje indicando que la persona\\nno trabaja aquí.'"
      ]
     },
     "execution_count": 58,
     "metadata": {},
     "output_type": "execute_result"
    }
   ],
   "source": [
    "\"\"\"32. Crea una función que tome un nombre completo y una lista de empleados, busque el nombre completo en la lista y\n",
    "devuelve el puesto del empleado si está en la lista, de lo contrario, devuelve un mensaje indicando que la persona\n",
    "no trabaja aquí.\"\"\""
   ]
  },
  {
   "cell_type": "code",
   "execution_count": 81,
   "metadata": {},
   "outputs": [
    {
     "name": "stdout",
     "output_type": "stream",
     "text": [
      "Los nombre y profesiones de la lista de empleados son: [['Alberto Gutiérrez', 'Administrativo'], ['Pepe Ruiz', 'Arquitecto'], ['Maria Adanez', 'Escritora']]\n",
      "El nombre del empleado buscado es: Maria Adanez\n",
      "Maria Adanez trabaja como Escritora\n"
     ]
    }
   ],
   "source": [
    "Lista_empleados = []\n",
    "\n",
    "for a in range(3):\n",
    "    nombre_completo = input('Ingrese su nombre completo: ') \n",
    "    puesto = input('Ingrese su profesión: ')\n",
    "    Lista_empleados.append([nombre_completo, puesto])\n",
    "print(f'Los nombre y profesiones de la lista de empleados son: {Lista_empleados}')\n",
    "\n",
    "Lista_empleados_dict = dict(Lista_empleados)\n",
    "type(Lista_empleados_dict)\n",
    "\n",
    "nombre_completo_buscado = input('Por favor ingrese el nombre completo del empleado: ')\n",
    "print(f'El nombre del empleado buscado es: {nombre_completo_buscado}')\n",
    "\n",
    "\n",
    "if nombre_completo_buscado in Lista_empleados_dict:\n",
    "            print(f'{nombre_completo_buscado} trabaja como {Lista_empleados_dict.get(nombre_completo_buscado)}')\n",
    "            \n",
    "else:\n",
    "            print('El empleado buscado no trabaja aquí')\n",
    "       \n",
    " \n",
    "        \n"
   ]
  },
  {
   "cell_type": "code",
   "execution_count": 1,
   "metadata": {},
   "outputs": [
    {
     "data": {
      "text/plain": [
       "'33. Crea una función lambda que sume elementos correspondientes de dos listas dadas.'"
      ]
     },
     "execution_count": 1,
     "metadata": {},
     "output_type": "execute_result"
    }
   ],
   "source": [
    "\"\"\"33. Crea una función lambda que sume elementos correspondientes de dos listas dadas.\"\"\""
   ]
  },
  {
   "cell_type": "code",
   "execution_count": 2,
   "metadata": {},
   "outputs": [
    {
     "name": "stdout",
     "output_type": "stream",
     "text": [
      "[4, 6, 8, 10, 12]\n"
     ]
    }
   ],
   "source": [
    "lista_1 = [1, 2, 3, 4, 5]\n",
    "lista_2 = [3, 4, 5, 6, 7]\n",
    "\n",
    "resultado = list(map(lambda x, y: x + y, lista_1, lista_2))\n",
    "print(resultado)"
   ]
  },
  {
   "cell_type": "code",
   "execution_count": null,
   "metadata": {},
   "outputs": [
    {
     "data": {
      "text/plain": [
       "'34. Crea la clase Arbol , define un árbol genérico con un tronco y ramas como atributos. Los métodos disponibles son:\\ncrecer_tronco , nueva_rama , crecer_ramas , quitar_rama e info_arbol . El objetivo es implementar estos métodos para\\nmanipular la estructura del árbol.\\nCódigo a seguir:\\n1. Inicializar un árbol con un tronco de longitud 1 y una lista vacía de ramas.\\n2. Implementar el método crecer_tronco para aumentar la longitud del tronco en una unidad.\\n3. Implementar el método nueva_rama para agregar una nueva rama de longitud 1 a la lista de ramas.\\n4. Implementar el método crecer_ramas para aumentar en una unidad la longitud de todas las ramas existentes.\\n5. Implementar el método quitar_rama para eliminar una rama en una posición específica.\\n6. Implementar el método\\ninfo_arbol para devolver información sobre la longitud del tronco, el número de ramas y las longitudes de las\\nmismas.\\nCaso de uso:\\n1. Crear un árbol.\\n2. Hacer crecer el tronco del árbol una unidad.\\n3. Añadir una nueva rama al árbol.\\n4. Hacer crecer todas las ramas del árbol una unidad.\\n5. Añadir dos nuevas ramas al árbol.\\n6. Retirar la rama situada en la posición 2.\\n7. Obtener información sobre el árbol.'"
      ]
     },
     "execution_count": 1,
     "metadata": {},
     "output_type": "execute_result"
    }
   ],
   "source": [
    "\"\"\"34. Crea la clase Arbol , define un árbol genérico con un tronco y ramas como atributos. Los métodos disponibles son:\n",
    "crecer_tronco , nueva_rama , crecer_ramas , quitar_rama e info_arbol . El objetivo es implementar estos métodos para\n",
    "manipular la estructura del árbol.\n",
    "Código a seguir:\n",
    "1. Inicializar un árbol con un tronco de longitud 1 y una lista vacía de ramas.\n",
    "2. Implementar el método crecer_tronco para aumentar la longitud del tronco en una unidad.\n",
    "3. Implementar el método nueva_rama para agregar una nueva rama de longitud 1 a la lista de ramas.\n",
    "4. Implementar el método crecer_ramas para aumentar en una unidad la longitud de todas las ramas existentes.\n",
    "5. Implementar el método quitar_rama para eliminar una rama en una posición específica.\n",
    "6. Implementar el método\n",
    "info_arbol para devolver información sobre la longitud del tronco, el número de ramas y las longitudes de las\n",
    "mismas.\n",
    "Caso de uso:\n",
    "1. Crear un árbol.\n",
    "2. Hacer crecer el tronco del árbol una unidad.\n",
    "3. Añadir una nueva rama al árbol.\n",
    "4. Hacer crecer todas las ramas del árbol una unidad.\n",
    "5. Añadir dos nuevas ramas al árbol.\n",
    "6. Retirar la rama situada en la posición 2.\n",
    "7. Obtener información sobre el árbol.\"\"\""
   ]
  },
  {
   "cell_type": "code",
   "execution_count": 142,
   "metadata": {},
   "outputs": [
    {
     "name": "stdout",
     "output_type": "stream",
     "text": [
      "2\n",
      "[1]\n",
      "[1]\n",
      "[1, 1, 1]\n",
      "[1, 1]\n",
      "La longitud del tronco es:  {2}\n",
      "El número de ramas es:  {2}\n"
     ]
    }
   ],
   "source": [
    "class Arbol:\n",
    "    def __init__(self):\n",
    "        self.tronco = 1\n",
    "        self.ramas = []\n",
    "\n",
    "arbol = Arbol()\n",
    "     \n",
    "def crecer_tronco(self):\n",
    "        self.tronco +=1\n",
    "        \n",
    "def nueva_rama(self, rama):\n",
    "        self.ramas.append(rama)\n",
    "                \n",
    "def crecer_rama(self):\n",
    "        for rama in range(len(arbol.ramas)):\n",
    "                rama += 1\n",
    "        \n",
    "def quitar_rama(self):\n",
    "        self.ramas.pop(2)\n",
    "\n",
    "def info_arbol(self) :\n",
    "        print('La longitud del tronco es: ', {arbol.tronco})\n",
    "        print('El número de ramas es: ', {len(arbol.ramas)})\n",
    "        \n",
    "        \n",
    "\"\"\"2. Hacer crecer el tronco del árbol una unidad\"\"\"  \n",
    "crecer_tronco(arbol)\n",
    "print(arbol.tronco)\n",
    "    \n",
    "\"\"\"3. Añadir una nueva rama al árbol\"\"\"\n",
    "\n",
    "rama = 1\n",
    "nueva_rama(arbol, rama)\n",
    "print(arbol.ramas)\n",
    "\n",
    "\"\"\"4. Hacer crecer todas las ramas del árbol una unidad\"\"\"\n",
    "\n",
    "crecer_rama(arbol)\n",
    "print(arbol.ramas)\n",
    "\n",
    "\"\"\"5. Añadir 2 nuevas ramas al árbol\"\"\"\n",
    "\n",
    "nueva_rama(arbol, rama)\n",
    "nueva_rama(arbol, rama)\n",
    "print(arbol.ramas)\n",
    "\n",
    "\"\"\"6. Retirar la rama situada en la posición 2\"\"\"\n",
    "\n",
    "quitar_rama(arbol)\n",
    "print(arbol.ramas)\n",
    "\n",
    "\"\"\"7. Obtener información sobre el árbol\"\"\"\n",
    "info_arbol(arbol)\n",
    "    "
   ]
  },
  {
   "cell_type": "code",
   "execution_count": 1,
   "metadata": {},
   "outputs": [
    {
     "data": {
      "text/plain": [
       "'36. Crea la clase UsuarioBanco ,representa a un usuario de un banco con su nombre, saldo y si tiene o no cuenta\\ncorriente. Proporciona métodos para realizar operaciones como retirar dinero, transferir dinero desde otro usuario y\\nagregar dinero al saldo.\\nCódigo a seguir:\\n1. Inicializar un usuario con su nombre, saldo y si tiene o no cuenta corriente mediante True y False .\\n2. Implementar el método retirar_dinero para retirar dinero del saldo del usuario. Lanzará un error en caso de no\\npoder hacerse.\\n3. Implementar el método transferir_dinero para realizar una transferencia desde otro usuario al usuario actual.\\nLanzará un error en caso de no poder hacerse.\\n4. Implementar el método agregar_dinero para agregar dinero al saldo del usuario.\\nCaso de uso:\\n1. Crear dos usuarios: \"Alicia\" con saldo inicial de 100 y \"Bob\" con saldo inicial de 50, ambos con cuenta corriente.\\n2. Agregar 20 unidades de saldo de \"Bob\".\\n3. Hacer una transferencia de 80 unidades desde \"Bob\" a \"Alicia\".\\n4. Retirar 50 unidades de saldo a \"Alicia\".'"
      ]
     },
     "execution_count": 1,
     "metadata": {},
     "output_type": "execute_result"
    }
   ],
   "source": [
    "\"\"\"36. Crea la clase UsuarioBanco ,representa a un usuario de un banco con su nombre, saldo y si tiene o no cuenta\n",
    "corriente. Proporciona métodos para realizar operaciones como retirar dinero, transferir dinero desde otro usuario y\n",
    "agregar dinero al saldo.\n",
    "Código a seguir:\n",
    "1. Inicializar un usuario con su nombre, saldo y si tiene o no cuenta corriente mediante True y False .\n",
    "2. Implementar el método retirar_dinero para retirar dinero del saldo del usuario. Lanzará un error en caso de no\n",
    "poder hacerse.\n",
    "3. Implementar el método transferir_dinero para realizar una transferencia desde otro usuario al usuario actual.\n",
    "Lanzará un error en caso de no poder hacerse.\n",
    "4. Implementar el método agregar_dinero para agregar dinero al saldo del usuario.\n",
    "Caso de uso:\n",
    "1. Crear dos usuarios: \"Alicia\" con saldo inicial de 100 y \"Bob\" con saldo inicial de 50, ambos con cuenta corriente.\n",
    "2. Agregar 20 unidades de saldo de \"Bob\".\n",
    "3. Hacer una transferencia de 80 unidades desde \"Bob\" a \"Alicia\".\n",
    "4. Retirar 50 unidades de saldo a \"Alicia\".\"\"\""
   ]
  },
  {
   "cell_type": "code",
   "execution_count": 66,
   "metadata": {},
   "outputs": [
    {
     "name": "stdout",
     "output_type": "stream",
     "text": [
      "El saldo inicial de Alicia es de 100\n",
      "El saldo inicial de Bob es de 50\n",
      "Despues de agregar 20 el saldo de Bob es de 70\n",
      "Lo siento Bob, no tiene suficiente saldo para hacer la transferencia de 80\n",
      "Alicia, despues de retirar 50, su saldo es de 50\n"
     ]
    }
   ],
   "source": [
    "class UsuarioBanco:    \n",
    "    def __init__(self, username, balance, bank_account):\n",
    "        self.username = username\n",
    "        self.balance = balance\n",
    "        self.bank_account = bank_account\n",
    "        \n",
    "Alicia = UsuarioBanco('Alicia', 100, True)\n",
    "Bob = UsuarioBanco('Bob', 50, True)\n",
    "\n",
    "print(f'El saldo inicial de {Alicia.username} es de {Alicia.balance}')\n",
    "print(f'El saldo inicial de {Bob.username} es de {Bob.balance}')\n",
    "\n",
    "def agregar_dinero(self):\n",
    "        return self.balance + x\n",
    "\n",
    "x= 20\n",
    "Resultado = agregar_dinero(Bob)\n",
    "print (f'Despues de agregar {x} el saldo de {Bob.username} es de {Resultado}')\n",
    " \n",
    "def transferir_dinero (self):\n",
    "        cantidad_a_transferir = y\n",
    "        saldo_emisor = self.balance + x\n",
    "        saldo_receptor = Alicia.balance\n",
    "        nombre_emisor = self.username\n",
    "        nombre_receptor =Alicia.username\n",
    "        \n",
    "        if cantidad_a_transferir > saldo_emisor:\n",
    "                print(f'Lo siento {nombre_emisor}, no tiene suficiente saldo para hacer la transferencia de {cantidad_a_transferir}')\n",
    "        else:\n",
    "                Resultado1= saldo_emisor - cantidad_a_transferir\n",
    "                Resultado2 = saldo_receptor + cantidad_a_transferir\n",
    "                print(f'Se ha realizado la transferencia. Ahora el saldo de {nombre_emisor} es de {Resultado1} y el saldo de {nombre_receptor} es de {Resultado2}')\n",
    "\n",
    "y= 80\n",
    "Resultado3 = transferir_dinero(Bob)\n",
    "\n",
    "def retirar_dinero(self):\n",
    "        cantidad_a_retirar = z\n",
    "        \n",
    "        if cantidad_a_retirar > self.balance:\n",
    "                print(f'Lo siento, no tiene suficiente saldo para retirar esa cantidad')\n",
    "        else:\n",
    "                Resultado4 = self.balance - cantidad_a_retirar\n",
    "                print(f'{self.username}, despues de retirar {cantidad_a_retirar}, su saldo es de {Resultado4}')\n",
    "                \n",
    "z = 50\n",
    "Resultado5 = retirar_dinero(Alicia)                \n",
    "        "
   ]
  },
  {
   "cell_type": "code",
   "execution_count": 67,
   "metadata": {},
   "outputs": [
    {
     "data": {
      "text/plain": [
       "'37. Crea una función llamada procesar_texto que procesa un texto según la opción especificada: contar_palabras ,\\nreemplazar_palabras , eliminar_palabra . Estas opciones son otras funciones que tenemos que definir primero y llamar dentro\\nde la función procesar_texto .\\nCódigo a seguir:\\n1. Crear una función contar_palabras para contar el número de veces que aparece cada palabra en el texto. Tiene\\nque devolver un diccionario.\\n2. Crear una función reemplazar_palabras para remplazar una palabra_original del texto por una palabra_nueva . Tiene\\nque devolver el texto con el remplazo de palabras.\\n3. Crear una función eliminar_palabra para eliminar una palabra del texto. Tiene que devolver el texto con la palabra\\neliminada.\\n4. Crear la función procesar_texto que tome un texto, una opción(entre \"contar\", \"reemplazar\", \"eliminar\") y un\\nnúmero de argumentos variable según la opción indicada.\\nCaso de uso:\\nComprueba el funcionamiento completo de la función procesar_texto'"
      ]
     },
     "execution_count": 67,
     "metadata": {},
     "output_type": "execute_result"
    }
   ],
   "source": [
    "\"\"\"37. Crea una función llamada procesar_texto que procesa un texto según la opción especificada: contar_palabras ,\n",
    "reemplazar_palabras , eliminar_palabra . Estas opciones son otras funciones que tenemos que definir primero y llamar dentro\n",
    "de la función procesar_texto .\n",
    "Código a seguir:\n",
    "1. Crear una función contar_palabras para contar el número de veces que aparece cada palabra en el texto. Tiene\n",
    "que devolver un diccionario.\n",
    "2. Crear una función reemplazar_palabras para remplazar una palabra_original del texto por una palabra_nueva . Tiene\n",
    "que devolver el texto con el remplazo de palabras.\n",
    "3. Crear una función eliminar_palabra para eliminar una palabra del texto. Tiene que devolver el texto con la palabra\n",
    "eliminada.\n",
    "4. Crear la función procesar_texto que tome un texto, una opción(entre \"contar\", \"reemplazar\", \"eliminar\") y un\n",
    "número de argumentos variable según la opción indicada.\n",
    "Caso de uso:\n",
    "Comprueba el funcionamiento completo de la función procesar_texto\"\"\""
   ]
  },
  {
   "cell_type": "code",
   "execution_count": 83,
   "metadata": {},
   "outputs": [
    {
     "name": "stdout",
     "output_type": "stream",
     "text": [
      "Menu de opciones: \n",
      "1.contar palabras\n",
      "2.reemplazar palabra\n",
      "3. eliminar palabra\n",
      "4. Salir\n"
     ]
    },
    {
     "name": "stdout",
     "output_type": "stream",
     "text": [
      "Ha elegido la opcion 1. contar palabras\n",
      "{'esto': 1, 'es': 2, 'un': 2, 'texto': 2, 'para': 1, 'completar': 1, 'el': 1, 'ejercicio': 1, 'treinta': 1, 'y': 1, 'siete': 1, 'aunque': 1, 'no': 1, 'muy': 1, 'largo': 1}\n",
      "Menu de opciones: \n",
      "1.contar palabras\n",
      "2.reemplazar palabra\n",
      "3. eliminar palabra\n",
      "4. Salir\n",
      "Ha eledigo la opción 2. reemplazar palabra\n",
      "Esto es un texto para completar el ejercicio treinta y siete, aunque no es un texto muy corto\n",
      "Menu de opciones: \n",
      "1.contar palabras\n",
      "2.reemplazar palabra\n",
      "3. eliminar palabra\n",
      "4. Salir\n",
      "Ha eledigo la opción 2. reemplazar palabra\n",
      "Esto era un texto para completar el ejercicio treinta y siete, aunque no era un texto muy largo\n",
      "Menu de opciones: \n",
      "1.contar palabras\n",
      "2.reemplazar palabra\n",
      "3. eliminar palabra\n",
      "4. Salir\n",
      "Ha elegido la opción 3. eliminar palabra\n",
      "Esto es un texto para completar el ejercicio treinta , aunque no es un texto muy largo\n",
      "Menu de opciones: \n",
      "1.contar palabras\n",
      "2.reemplazar palabra\n",
      "3. eliminar palabra\n",
      "4. Salir\n",
      "Salir del programa\n"
     ]
    }
   ],
   "source": [
    "texto = 'Esto es un texto para completar el ejercicio treinta y siete, aunque no es un texto muy largo'\n",
    "\n",
    "opcion = 0\n",
    "\n",
    "while opcion != 4:\n",
    "        print('Menu de opciones: ')\n",
    "        print('1.contar palabras')\n",
    "        print('2.reemplazar palabra')\n",
    "        print('3. eliminar palabra')\n",
    "        print('4. Salir')\n",
    "        opcion = int(input('Por favor ingresa tu opcion: '))\n",
    "\n",
    "        if (opcion == 1):\n",
    "                print('Ha elegido la opcion 1. contar palabras')\n",
    "                contador = {}\n",
    "                palabras = texto.replace(',', '').replace(',', '').lower().split()\n",
    "    \n",
    "                for elem in palabras:\n",
    "                        if elem in contador:\n",
    "                                contador[elem] += 1\n",
    "                        else:\n",
    "                                 contador[elem] = 1\n",
    "            \n",
    "                print (contador)\n",
    "                \n",
    "        elif (opcion == 2):\n",
    "                print('Ha eledigo la opción 2. reemplazar palabra')\n",
    "                Palabra_a_reemplazar = str(input(f'Por favor, indique la palabra del texto a reemplazar: '))\n",
    "                Nueva_palabra = str(input(f'Por favor, indique la nueva palabra: '))\n",
    "                texto_nuevo = texto.replace(Palabra_a_reemplazar, Nueva_palabra)\n",
    "                print(texto_nuevo)\n",
    "                \n",
    "        elif (opcion == 3):\n",
    "                print('Ha elegido la opción 3. eliminar palabra')\n",
    "                Palabra_a_eliminar = str(input(f'Por favor, indique la palabra del texto a eliminar: '))\n",
    "                texto_nuevo = texto.replace(Palabra_a_eliminar,'')\n",
    "                print(texto_nuevo)\n",
    "                \n",
    "        elif (opcion == 4):\n",
    "                \n",
    "                print('Salir del programa')\n",
    "                break\n",
    "        else:\n",
    "                print('Opción incorrecta')\n",
    "                \n",
    "        \n"
   ]
  },
  {
   "cell_type": "code",
   "execution_count": 2,
   "metadata": {},
   "outputs": [
    {
     "data": {
      "text/plain": [
       "'38. Genera un programa que nos diga si es de noche, de día o tarde según la hora proporcionada por el usuario.'"
      ]
     },
     "execution_count": 2,
     "metadata": {},
     "output_type": "execute_result"
    }
   ],
   "source": [
    "\"\"\"38. Genera un programa que nos diga si es de noche, de día o tarde según la hora proporcionada por el usuario.\"\"\""
   ]
  },
  {
   "cell_type": "code",
   "execution_count": 25,
   "metadata": {},
   "outputs": [
    {
     "name": "stdout",
     "output_type": "stream",
     "text": [
      "Ha indicado que ahora son las 21\n",
      "Es de noche\n"
     ]
    }
   ],
   "source": [
    "Hora_usuario = int(input('Introduzca que hora es en formato (1 a 24h.): '))\n",
    "print(f'Ha indicado que ahora son las {Hora_usuario}')\n",
    "\n",
    "if 1 <= Hora_usuario <= 7 or 20 < Hora_usuario <= 24:\n",
    "    print('Es de noche')\n",
    "elif 7 < Hora_usuario <= 14:\n",
    "    print('Es de día')\n",
    "else:\n",
    "    print(\"Es por la tarde\")"
   ]
  },
  {
   "cell_type": "code",
   "execution_count": 26,
   "metadata": {},
   "outputs": [
    {
     "data": {
      "text/plain": [
       "'39. Escribe un programa que determine qué calificación en texto tiene un alumno en base a su calificación numérica.\\nLas reglas de calificación son:\\n- 0 - 69 insuficiente\\n- 70 - 79 bien\\n- 80 - 89 muy bien\\n- 90 - 100 excelente'"
      ]
     },
     "execution_count": 26,
     "metadata": {},
     "output_type": "execute_result"
    }
   ],
   "source": [
    "\"\"\"39. Escribe un programa que determine qué calificación en texto tiene un alumno en base a su calificación numérica.\n",
    "Las reglas de calificación son:\n",
    "- 0 - 69 insuficiente\n",
    "- 70 - 79 bien\n",
    "- 80 - 89 muy bien\n",
    "- 90 - 100 excelente\"\"\""
   ]
  },
  {
   "cell_type": "code",
   "execution_count": 32,
   "metadata": {},
   "outputs": [
    {
     "name": "stdout",
     "output_type": "stream",
     "text": [
      "Su calificación es de 90\n",
      "excelente\n"
     ]
    }
   ],
   "source": [
    "calificacion_numerica = int(input('Introduzca su califación numérica: '))\n",
    "print(f'Su calificación es de {calificacion_numerica}')\n",
    "\n",
    "if 0 < calificacion_numerica < 69:\n",
    "    print('Insuficiente')\n",
    "elif 70 < calificacion_numerica < 79:\n",
    "    print('bien')\n",
    "elif 80 < calificacion_numerica < 89:\n",
    "    print('muy bien')\n",
    "else:\n",
    "    print('excelente')"
   ]
  },
  {
   "cell_type": "code",
   "execution_count": 33,
   "metadata": {},
   "outputs": [
    {
     "data": {
      "text/plain": [
       "'40. Escribe una función que tome dos parámetros: figura (una cadena que puede ser \"rectangulo\" , \"circulo\" o\\n\"triangulo\" ) y datos (una tupla con los datos necesarios para calcular el área de la figura).'"
      ]
     },
     "execution_count": 33,
     "metadata": {},
     "output_type": "execute_result"
    }
   ],
   "source": [
    "\"\"\"40. Escribe una función que tome dos parámetros: figura (una cadena que puede ser \"rectangulo\" , \"circulo\" o\n",
    "\"triangulo\" ) y datos (una tupla con los datos necesarios para calcular el área de la figura).\"\"\""
   ]
  },
  {
   "cell_type": "code",
   "execution_count": 8,
   "metadata": {},
   "outputs": [
    {
     "name": "stdout",
     "output_type": "stream",
     "text": [
      "La figura escogida es un rectangulo\n",
      "El area de su rectangulo es de 16.0 cm\n"
     ]
    }
   ],
   "source": [
    "figura_dada = input('Escoja una figura (rectangulo, circulo o triangulo): ')\n",
    "print(f'La figura escogida es un {figura_dada}')\n",
    "\n",
    "if figura_dada == 'triangulo':\n",
    "            def calcular_area_triangulo (base, altura):\n",
    "                area = (base * altura) / 2\n",
    "                return area\n",
    "\n",
    "            base = float(input('Introduzca la base de su triangulo (cm): '))\n",
    "            altura = float(input('Introduzca la altura de su triangulo (cm): '))\n",
    " \n",
    "            area_triangle = calcular_area_triangulo(base, altura)\n",
    "            print (f'El area de su triangulo es de {area_triangle} cm')\n",
    "\n",
    "elif figura_dada == 'circulo':\n",
    "            diametro_circle = float(input('Introduzca el diametro de su circulo (cm): '))\n",
    "            import math\n",
    "            radio_circle = diametro_circle / 2\n",
    "            area_circle = round(math.pi * (radio_circle**2),2)\n",
    "            print (f'El area de su circulo es de {area_circle} cm')        \n",
    "            \n",
    "else:\n",
    "            base_rectangle = float(input('Introduzca la base de su rectangulo (cm): '))\n",
    "            altura_rectangle = float(input('Introduzca la altura de su rectangulo (cm): '))\n",
    "            area_rectangle = (base_rectangle * altura_rectangle)\n",
    "            print (f'El area de su rectangulo es de {area_rectangle} cm')\n",
    "    \n",
    "    "
   ]
  },
  {
   "cell_type": "code",
   "execution_count": 9,
   "metadata": {},
   "outputs": [
    {
     "data": {
      "text/plain": [
       "'41. En este ejercicio, se te pedirá que escribas un programa en Python que utilice condicionales para determinar el\\nmonto final de una compra en una tienda en línea, después de aplicar un descuento. El programa debe hacer lo\\nsiguiente:\\n1. Solicita al usuario que ingrese el precio original de un artículo.\\n2. Pregunta al usuario si tiene un cupón de descuento (respuesta sí o no).\\n3. Si el usuario responde que sí, solicita que ingrese el valor del cupón de descuento.\\n4. Aplica el descuento al precio original del artículo, siempre y cuando el valor del cupón sea válido (es decir, mayor\\na cero). Por ejemplo, descuento de 15€.\\n5. Muestra el precio final de la compra, teniendo en cuenta el descuento aplicado o sin él.\\n6. Recuerda utilizar estructuras de control de flujo como if, elif y else para llevar a cabo estas acciones en tu\\nprograma de Python.'"
      ]
     },
     "execution_count": 9,
     "metadata": {},
     "output_type": "execute_result"
    }
   ],
   "source": [
    "\"\"\"41. En este ejercicio, se te pedirá que escribas un programa en Python que utilice condicionales para determinar el\n",
    "monto final de una compra en una tienda en línea, después de aplicar un descuento. El programa debe hacer lo\n",
    "siguiente:\n",
    "1. Solicita al usuario que ingrese el precio original de un artículo.\n",
    "2. Pregunta al usuario si tiene un cupón de descuento (respuesta sí o no).\n",
    "3. Si el usuario responde que sí, solicita que ingrese el valor del cupón de descuento.\n",
    "4. Aplica el descuento al precio original del artículo, siempre y cuando el valor del cupón sea válido (es decir, mayor\n",
    "a cero). Por ejemplo, descuento de 15€.\n",
    "5. Muestra el precio final de la compra, teniendo en cuenta el descuento aplicado o sin él.\n",
    "6. Recuerda utilizar estructuras de control de flujo como if, elif y else para llevar a cabo estas acciones en tu\n",
    "programa de Python.\"\"\""
   ]
  },
  {
   "cell_type": "code",
   "execution_count": 22,
   "metadata": {},
   "outputs": [
    {
     "name": "stdout",
     "output_type": "stream",
     "text": [
      "No dispone de cupón de descuento\n",
      "El precio final de su compra es de 100.0€\n"
     ]
    }
   ],
   "source": [
    "Precio_original = float(input('Por favor introduzca el precio original de su artículo: '))\n",
    "Cupon_descuento = str(input('¿Tiene cupón de descuento? S/N: '))\n",
    "\n",
    "if Cupon_descuento == 'S':\n",
    "    valor_cupon_descuento = float(input('Por favor introduzca el valor de su cupón de descuento; '))\n",
    "    if valor_cupon_descuento > 0:\n",
    "                precio_final_compra = (Precio_original - valor_cupon_descuento)\n",
    "                print (f'El precio final de su compra es de {precio_final_compra}€')\n",
    "    else:\n",
    "                print ('El valor de su cupón no es válido y no puede ser aplicado')\n",
    "                print (f'El precio final de su compra es de {Precio_original}€')       \n",
    "else:\n",
    "    print('No dispone de cupón de descuento')\n",
    "    print (f'El precio final de su compra es de {Precio_original}€')\n",
    "    "
   ]
  },
  {
   "cell_type": "code",
   "execution_count": 6,
   "metadata": {},
   "outputs": [
    {
     "name": "stdout",
     "output_type": "stream",
     "text": [
      "[1 2 5]\n"
     ]
    },
    {
     "data": {
      "text/plain": [
       "numpy.ndarray"
      ]
     },
     "execution_count": 6,
     "metadata": {},
     "output_type": "execute_result"
    }
   ],
   "source": [
    "import numpy as np\n",
    "lista = [1, 2, 5]\n",
    "\n",
    "array1 = np.array(lista)\n",
    "print(array1)\n",
    "type(array1)\n",
    "\n"
   ]
  },
  {
   "cell_type": "code",
   "execution_count": 7,
   "metadata": {},
   "outputs": [
    {
     "name": "stdout",
     "output_type": "stream",
     "text": [
      "[[1 2 5]\n",
      " [2 4 6]]\n"
     ]
    }
   ],
   "source": [
    "lista2 = [[1, 2, 5], [2, 4, 6]]\n",
    "\n",
    "array2 = np.array(lista2)\n",
    "\n",
    "print(array2)"
   ]
  }
 ],
 "metadata": {
  "kernelspec": {
   "display_name": "Python 3",
   "language": "python",
   "name": "python3"
  },
  "language_info": {
   "codemirror_mode": {
    "name": "ipython",
    "version": 3
   },
   "file_extension": ".py",
   "mimetype": "text/x-python",
   "name": "python",
   "nbconvert_exporter": "python",
   "pygments_lexer": "ipython3",
   "version": "3.13.1"
  }
 },
 "nbformat": 4,
 "nbformat_minor": 2
}
